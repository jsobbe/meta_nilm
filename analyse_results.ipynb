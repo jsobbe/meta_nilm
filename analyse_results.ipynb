{
 "cells": [
  {
   "cell_type": "code",
   "execution_count": 2,
   "id": "da62bfa6",
   "metadata": {},
   "outputs": [],
   "source": [
    "import pandas as pd\n",
    "import matplotlib.pyplot as plt\n",
    "import numpy as np"
   ]
  },
  {
   "cell_type": "code",
   "execution_count": 3,
   "id": "8eabc658",
   "metadata": {},
   "outputs": [],
   "source": [
    "def get_best_final_loss(results):\n",
    "    loss_stats = {}\n",
    "    for opt, res in results.items():\n",
    "        loss_stats[opt] = {}\n",
    "        best_loss = 1000\n",
    "        final_loss_sum = 0\n",
    "        for run in res:\n",
    "            final_loss = run[-1]\n",
    "            if final_loss < best_loss:\n",
    "                best_loss = final_loss\n",
    "            final_loss_sum += final_loss\n",
    "        loss_stats[opt]['avg'] = \"{:.4f}\".format(final_loss_sum / len(res))\n",
    "        loss_stats[opt]['best'] = \"{:.4f}\".format(best_loss)\n",
    "    return loss_stats\n",
    "\n",
    "def _get_quantile(q_val, results):\n",
    "    quantiles = []\n",
    "    stats = {}\n",
    "    for run in results:\n",
    "        try:\n",
    "            quantiles.append(next(i for i,v in enumerate(run) if v < q_val))\n",
    "        except StopIteration:\n",
    "            quantiles.append(2500)\n",
    "    stats['avg'] = \"{:.1f}\".format(np.mean(quantiles))\n",
    "    stats['median'] = np.median(quantiles)\n",
    "    stats['best'] = np.min(quantiles)\n",
    "    return stats\n",
    "        \n",
    "def get_loss_quantiles(results):\n",
    "    loss_stats = {}\n",
    "    for opt, res in results.items():\n",
    "        loss_stats[opt] = {}\n",
    "        \n",
    "        loss_stats[opt]['high'] = _get_quantile(0.75, res)\n",
    "        loss_stats[opt]['mid'] = _get_quantile(0.5, res)\n",
    "        loss_stats[opt]['low'] = _get_quantile(0.25, res)\n",
    "#         loss_stats[opt]['high'] = np.mean(high_qs)\n",
    "#         loss_stats[opt]['mid'] = np.mean(mid_qs)\n",
    "#         loss_stats[opt]['low'] = np.mean(low_qs)\n",
    "    return loss_stats\n",
    "    "
   ]
  },
  {
   "cell_type": "code",
   "execution_count": 10,
   "id": "61a8f730",
   "metadata": {},
   "outputs": [
    {
     "name": "stdout",
     "output_type": "stream",
     "text": [
      "9\n",
      "9\n",
      "9\n"
     ]
    }
   ],
   "source": [
    "results = {\n",
    "    # BASE REDD FRIDGE\n",
    "#         'rnn': pd.read_pickle('meta/results/1_eval_final/base/fridge/rnn_base_eval_loss_record.pickle-nilm_seq'),\n",
    "#         'rnn_e': pd.read_pickle('meta/results/1_eval_final/base/fridge/rnn_e_base_nb2_eval_loss_record.pickle-nilm_seq'),\n",
    "#         'adam': pd.read_pickle('meta/results/1_eval_final/base/fridge/adam_eval_loss_record.pickle-nilm_seq'),\n",
    "    # APPL REDD FRIDGE\n",
    "#         'rnn': pd.read_pickle('meta/results/1_eval_final/appls/fridge/rnn_appls_eval_loss_record.pickle-nilm_seq'),\n",
    "#         'rnn_e': pd.read_pickle('meta/results/1_eval_final/appls/fridge/rnn_e_appls_eval_loss_record.pickle-nilm_seq'),\n",
    "#         'adam': pd.read_pickle('meta/results/1_eval_final/appls/fridge/adam_eval_loss_record.pickle-nilm_seq'),\n",
    "    # DATA REDD FRIDGE\n",
    "#         'rnn': pd.read_pickle('meta/results/1_eval_final/data/fridge/rnn_data_eval_loss_record.pickle-nilm_seq'),\n",
    "#         'rnn_e': pd.read_pickle('meta/results/1_eval_final/data/fridge/rnn_e_data_eval_loss_record.pickle-nilm_seq'),\n",
    "#         'adam': pd.read_pickle('meta/results/1_eval_final/data/fridge/adam_eval_loss_record.pickle-nilm_seq'),\n",
    "    # BOTH REDD FRIDGE\n",
    "#         'rnn': pd.read_pickle('meta/results/1_eval_final/both/fridge/rnn_both_eval_loss_record.pickle-nilm_seq'),\n",
    "#         'rnn_e': pd.read_pickle('meta/results/1_eval_final/both/fridge/rnn_e_both_eval_loss_record.pickle-nilm_seq'),\n",
    "#         'adam': pd.read_pickle('meta/results/1_eval_final/both/fridge/adam_eval_loss_record.pickle-nilm_seq'),\n",
    "    \n",
    "    \n",
    "    \n",
    "    # BASE iAWE fridge\n",
    "#         'rnn': pd.read_pickle('meta/results/1_eval_final/base_iAWE/fridge/rnn_base_full.pickle-nilm_seq'),\n",
    "#         'rnn_e': pd.read_pickle('meta/results/1_eval_final/base_iAWE/fridge/rnn_e_base_full.pickle-nilm_seq'),\n",
    "#         'adam': pd.read_pickle('meta/results/1_eval_final/base_iAWE/fridge/adam_full.pickle-nilm_seq'),\n",
    "    # APPL iAWE fridge\n",
    "#         'rnn': pd.read_pickle('meta/results/1_eval_final/appls_iAWE/fridge/rnn_appls_full.pickle-nilm_seq'),\n",
    "#         'rnn_e': pd.read_pickle('meta/results/1_eval_final/appls_iAWE/fridge/rnn_e_appls_full.pickle-nilm_seq'),\n",
    "#         'adam': pd.read_pickle('meta/results/1_eval_final/appls_iAWE/fridge/adam_full.pickle-nilm_seq'),\n",
    "    # DATA iAWE fridge\n",
    "#         'rnn': pd.read_pickle('meta/results/1_eval_final/data_iAWE/fridge/rnn_data_full.pickle-nilm_seq'),\n",
    "#         'rnn_e': pd.read_pickle('meta/results/1_eval_final/data_iAWE/fridge/rnn_e_data_full.pickle-nilm_seq'),\n",
    "#         'adam': pd.read_pickle('meta/results/1_eval_final/data_iAWE/fridge/adam_full.pickle-nilm_seq'),\n",
    "    # BOTH iAWE fridge\n",
    "#         'rnn': pd.read_pickle('meta/results/1_eval_final/both_iAWE/fridge/rnn_both_full.pickle-nilm_seq'),\n",
    "#         'rnn_e': pd.read_pickle('meta/results/1_eval_final/both_iAWE/fridge/rnn_e_both_full.pickle-nilm_seq'),\n",
    "#         'adam': pd.read_pickle('meta/results/1_eval_final/both_iAWE/fridge/adam_full.pickle-nilm_seq'),\n",
    "    \n",
    "    \n",
    "    # BASE iAWE AC\n",
    "#         'rnn': pd.read_pickle('meta/results/1_eval_final/base_iAWE/air conditioner/rnn_base_full.pickle-nilm_seq'),\n",
    "#         'rnn_e': pd.read_pickle('meta/results/1_eval_final/base_iAWE/air conditioner/rnn_e_base_full.pickle-nilm_seq'),\n",
    "#         'adam': pd.read_pickle('meta/results/1_eval_final/base_iAWE/air conditioner/adam_full.pickle-nilm_seq'),\n",
    "    # APPL iAWE AC\n",
    "#         'rnn': pd.read_pickle('meta/results/1_eval_final/appls_iAWE/air conditioner/rnn_appls_full.pickle-nilm_seq'),\n",
    "#         'rnn_e': pd.read_pickle('meta/results/1_eval_final/appls_iAWE/air conditioner/rnn_e_appls_full.pickle-nilm_seq'),\n",
    "#         'adam': pd.read_pickle('meta/results/1_eval_final/appls_iAWE/air conditioner/adam_full.pickle-nilm_seq'),\n",
    "    # DATA iAWE AC\n",
    "#         'rnn': pd.read_pickle('meta/results/1_eval_final/data_iAWE/air conditioner/rnn_data_full.pickle-nilm_seq'),\n",
    "#         'rnn_e': pd.read_pickle('meta/results/1_eval_final/data_iAWE/air conditioner/rnn_e_data_full.pickle-nilm_seq'),\n",
    "#         'adam': pd.read_pickle('meta/results/1_eval_final/data_iAWE/air conditioner/adam_full.pickle-nilm_seq'),\n",
    "    # BOTH iAWE AC\n",
    "        'rnn': pd.read_pickle('meta/results/1_eval_final/both_iAWE/air conditioner/rnn_both_full.pickle-nilm_seq'),\n",
    "        'rnn_e': pd.read_pickle('meta/results/1_eval_final/both_iAWE/air conditioner/rnn_e_both_full.pickle-nilm_seq'),\n",
    "        'adam': pd.read_pickle('meta/results/1_eval_final/both_iAWE/air conditioner/adam_full.pickle-nilm_seq'),\n",
    "}\n",
    "for n, r in results.items():\n",
    "    print(len(r))"
   ]
  },
  {
   "cell_type": "code",
   "execution_count": 11,
   "id": "e00d0b03",
   "metadata": {},
   "outputs": [
    {
     "name": "stdout",
     "output_type": "stream",
     "text": [
      "{'rnn': {'avg': '0.4219', 'best': '0.0863'}, 'rnn_e': {'avg': '0.0549', 'best': '0.0153'}, 'adam': {'avg': '0.0675', 'best': '0.0440'}}\n",
      "{'rnn': {'high': {'avg': '37.2', 'median': 29.0, 'best': 0}, 'mid': {'avg': '965.4', 'median': 280.0, 'best': 103}, 'low': {'avg': '1048.7', 'median': 514.0, 'best': 133}}, 'rnn_e': {'high': {'avg': '5.3', 'median': 4.0, 'best': 0}, 'mid': {'avg': '9.7', 'median': 6.0, 'best': 4}, 'low': {'avg': '40.8', 'median': 39.0, 'best': 6}}, 'adam': {'high': {'avg': '11.0', 'median': 12.0, 'best': 1}, 'mid': {'avg': '17.0', 'median': 18.0, 'best': 14}, 'low': {'avg': '20.9', 'median': 20.0, 'best': 19}}}\n"
     ]
    }
   ],
   "source": [
    "print(get_best_final_loss(results))\n",
    "print(str(get_loss_quantiles(results)))"
   ]
  }
 ],
 "metadata": {
  "kernelspec": {
   "display_name": "Python 3 (ipykernel)",
   "language": "python",
   "name": "python3"
  },
  "language_info": {
   "codemirror_mode": {
    "name": "ipython",
    "version": 3
   },
   "file_extension": ".py",
   "mimetype": "text/x-python",
   "name": "python",
   "nbconvert_exporter": "python",
   "pygments_lexer": "ipython3",
   "version": "3.9.7"
  }
 },
 "nbformat": 4,
 "nbformat_minor": 5
}
